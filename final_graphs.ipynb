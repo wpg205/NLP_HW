{
 "cells": [
  {
   "cell_type": "code",
   "execution_count": 161,
   "metadata": {},
   "outputs": [],
   "source": [
    "import os\n",
    "import numpy as np\n",
    "import pandas as pd \n",
    "import matplotlib.pyplot as plt\n",
    "\n",
    "ml_runs = '/Users/williamgodel/Google Drive/Grad School/Year Three/NLP/final/nlpclass/mlruns'\n",
    "graphs = '/Users/williamgodel/Google Drive/Grad School/Year Three/NLP/final/graphs'\n",
    "os.chdir(ml_runs)"
   ]
  },
  {
   "cell_type": "code",
   "execution_count": 162,
   "metadata": {},
   "outputs": [],
   "source": [
    "class model_data:\n",
    "    \"\"\" contains basic model data \"\"\"\n",
    "    def __init__(self, name):\n",
    "        self.name = name \n",
    "        self.mod_dic = {}\n"
   ]
  },
  {
   "cell_type": "code",
   "execution_count": 163,
   "metadata": {},
   "outputs": [
    {
     "data": {
      "text/plain": [
       "'/Users/williamgodel/Google Drive/Grad School/Year Three/NLP/final/nlpclass/mlruns'"
      ]
     },
     "execution_count": 163,
     "metadata": {},
     "output_type": "execute_result"
    }
   ],
   "source": [
    "os.getcwd()"
   ]
  },
  {
   "cell_type": "code",
   "execution_count": 164,
   "metadata": {},
   "outputs": [],
   "source": [
    "os.chdir('/Users/williamgodel/Google Drive/Grad School/Year Three/NLP/final/nlpclass/mlruns')"
   ]
  },
  {
   "cell_type": "code",
   "execution_count": 37,
   "metadata": {},
   "outputs": [
    {
     "data": {
      "text/plain": [
       "['76bfeae414dd4a9097e82d5d4e646ae9',\n",
       " '.DS_Store',\n",
       " 'ad834f3c98fa4d5db185fd5b8aa7dc4f',\n",
       " '1a31f219e95d42628adc20dda281f897',\n",
       " '287ed3271bfe4e8ba566c32839bc548a',\n",
       " 'd8b63098a94346a79424165902ee5639',\n",
       " 'de75d8d44a16409aa12b92bf395ef553',\n",
       " 'dc4f12853cc84748aaf078a681e5b25e',\n",
       " 'meta.yaml']"
      ]
     },
     "execution_count": 37,
     "metadata": {},
     "output_type": "execute_result"
    }
   ],
   "source": [
    "os.listdir()"
   ]
  },
  {
   "cell_type": "code",
   "execution_count": 165,
   "metadata": {},
   "outputs": [],
   "source": [
    "#the files to run through\n",
    "runs_folders = ['2']\n",
    "all_models = {}\n",
    "time = 0\n",
    "os.chdir(ml_runs)\n",
    "#go through and collect my data\n",
    "for macro_folder in runs_folders:\n",
    "    \n",
    "    os.chdir(ml_runs)\n",
    "    os.chdir(macro_folder)\n",
    "    files = os.listdir()\n",
    "    \n",
    "    #getting rid of files I can't use\n",
    "    if 'meta.yaml' in files:\n",
    "        files.remove('meta.yaml')\n",
    "    if '.DS_Store'in files:\n",
    "        files.remove('.DS_Store')\n",
    "        \n",
    "    for runs in files:\n",
    "        all_models[time] = model_data(runs)\n",
    "        \n",
    "        os.chdir(runs)\n",
    "        \n",
    "        #getting parameters\n",
    "        os.chdir('params')\n",
    "        \n",
    "        param_names = os.listdir()\n",
    "        \n",
    "        for param in param_names:\n",
    "            with open(param) as f:\n",
    "                data = f.read()\n",
    "                \n",
    "            all_models[time].mod_dic[param] = data\n",
    "        \n",
    "        os.chdir('..')\n",
    "        \n",
    "        #getting data\n",
    "        os.chdir('metrics')\n",
    "        metrics = os.listdir()\n",
    "        \n",
    "        for metric in metrics: \n",
    "            with open(metric) as f:\n",
    "                data = []\n",
    "                for x in f:\n",
    "                    data.append(float(x.split(' ')[1][:-1]))\n",
    "\n",
    "            all_models[time].mod_dic[metric] = data\n",
    "        \n",
    "        os.chdir('..')\n",
    "        os.chdir('..')\n",
    "        time += 1\n",
    "        \n",
    "            \n",
    "\n"
   ]
  },
  {
   "cell_type": "code",
   "execution_count": 171,
   "metadata": {},
   "outputs": [],
   "source": [
    "def model_name(name):\n",
    "    for model in all_models:\n",
    "        if all_models[model].name == name:\n",
    "            return all_models[model]"
   ]
  },
  {
   "cell_type": "code",
   "execution_count": 166,
   "metadata": {},
   "outputs": [
    {
     "data": {
      "text/plain": [
       "'5de26844201a43faa34239cf7d1dbd3e'"
      ]
     },
     "execution_count": 166,
     "metadata": {},
     "output_type": "execute_result"
    }
   ],
   "source": [
    "all_models[0].name"
   ]
  },
  {
   "cell_type": "code",
   "execution_count": 141,
   "metadata": {},
   "outputs": [
    {
     "data": {
      "text/plain": [
       "['early_stopping',\n",
       " 'hidden_size',\n",
       " 'n_epochs',\n",
       " 'beam_search',\n",
       " 'embedding_size',\n",
       " 'attention',\n",
       " 'num_layers_dec',\n",
       " 'beam_alpha',\n",
       " 'bidirectional',\n",
       " 'num_layers_enc',\n",
       " 'optimizer',\n",
       " 'pretrained_embeddings',\n",
       " 'learning_rate',\n",
       " 'teacher_forcing_ratio',\n",
       " 'language',\n",
       " 'kernel_size',\n",
       " 'beam_size',\n",
       " 'dropout',\n",
       " 'clipping_value',\n",
       " 'batch_size',\n",
       " 'network_type',\n",
       " 'subsample']"
      ]
     },
     "execution_count": 141,
     "metadata": {},
     "output_type": "execute_result"
    }
   ],
   "source": [
    "metrics"
   ]
  },
  {
   "cell_type": "code",
   "execution_count": 183,
   "metadata": {},
   "outputs": [
    {
     "data": {
      "text/plain": [
       "['val_loss',\n",
       " 'train_loss_epoch',\n",
       " 'val_loss_epoch',\n",
       " 'val_bleu',\n",
       " 'best_bleu',\n",
       " 'best_loss',\n",
       " 'val_bleu_greedy',\n",
       " 'val_bleu_beam']"
      ]
     },
     "execution_count": 183,
     "metadata": {},
     "output_type": "execute_result"
    }
   ],
   "source": [
    "metrics"
   ]
  },
  {
   "cell_type": "code",
   "execution_count": null,
   "metadata": {},
   "outputs": [],
   "source": [
    "def find_model(attention = \"False\", bidirectional = \"False\", network_type = \"recurrent\"):\n",
    "    models_found = []\n",
    "    for model in all_models:\n",
    "        if all_models[model].data_dic[\"attention\"] = attention and \\\n",
    "            all_models[model].data_dic[\"bidirectional\"] = bidirectional and \\ \n",
    "            all_models[model].data_dic[\"bidirectional\"] = network_type:\n",
    "                models_found.append(all_models[model])\n",
    "\n",
    "    return models_found\n",
    "    "
   ]
  },
  {
   "cell_type": "code",
   "execution_count": 142,
   "metadata": {},
   "outputs": [
    {
     "name": "stdout",
     "output_type": "stream",
     "text": [
      "0\n",
      "1\n",
      "2\n",
      "3\n",
      "4\n",
      "5\n",
      "6\n",
      "7\n",
      "8\n",
      "9\n",
      "10\n",
      "11\n",
      "12\n",
      "13\n",
      "14\n",
      "15\n",
      "16\n",
      "17\n",
      "18\n",
      "19\n",
      "20\n",
      "21\n",
      "22\n",
      "23\n",
      "24\n",
      "25\n",
      "26\n"
     ]
    }
   ],
   "source": [
    "#collecting basic model\n",
    "basic_models = []\n",
    "\n",
    "for model in all_models:\n",
    "    if all_models[model].data_dic[\"attention\"] = 'False' and \\\n",
    "        all_models[model].data_dic[\"attention\"] = 'False'"
   ]
  },
  {
   "cell_type": "code",
   "execution_count": 136,
   "metadata": {},
   "outputs": [
    {
     "data": {
      "text/plain": [
       "dict_keys([0, 1, 2, 3, 4, 5, 6, 7, 8, 9, 10, 11, 12, 13, 14, 15, 16, 17, 18, 19, 20, 21, 22, 23, 24, 25, 26])"
      ]
     },
     "execution_count": 136,
     "metadata": {},
     "output_type": "execute_result"
    }
   ],
   "source": [
    "all_models.keys()"
   ]
  },
  {
   "cell_type": "code",
   "execution_count": 134,
   "metadata": {},
   "outputs": [
    {
     "ename": "KeyError",
     "evalue": "-1",
     "output_type": "error",
     "traceback": [
      "\u001b[0;31m---------------------------------------------------------------------------\u001b[0m",
      "\u001b[0;31mKeyError\u001b[0m                                  Traceback (most recent call last)",
      "\u001b[0;32m<ipython-input-134-becc53f04a9f>\u001b[0m in \u001b[0;36m<module>\u001b[0;34m()\u001b[0m\n\u001b[0;32m----> 1\u001b[0;31m \u001b[0mall_models\u001b[0m\u001b[0;34m[\u001b[0m\u001b[0;34m-\u001b[0m\u001b[0;36m1\u001b[0m\u001b[0;34m]\u001b[0m\u001b[0;34m.\u001b[0m\u001b[0mmod_dic\u001b[0m\u001b[0;34m\u001b[0m\u001b[0m\n\u001b[0m",
      "\u001b[0;31mKeyError\u001b[0m: -1"
     ]
    }
   ],
   "source": [
    "all_models[].mod_dic"
   ]
  },
  {
   "cell_type": "code",
   "execution_count": 139,
   "metadata": {},
   "outputs": [
    {
     "data": {
      "text/plain": [
       "{'attention': 'True',\n",
       " 'batch_size': '32',\n",
       " 'beam_alpha': '1.0',\n",
       " 'beam_search': 'False',\n",
       " 'beam_size': '5',\n",
       " 'best_bleu': [20.30208016499546],\n",
       " 'best_loss': [2.638499927520752],\n",
       " 'bidirectional': 'True',\n",
       " 'clipping_value': '7.5',\n",
       " 'dropout': '0.0',\n",
       " 'early_stopping': '3',\n",
       " 'embedding_size': '256',\n",
       " 'hidden_size': '256',\n",
       " 'kernel_size': '7',\n",
       " 'language': 'vi',\n",
       " 'learning_rate': '0.001',\n",
       " 'n_epochs': '15',\n",
       " 'network_type': 'recurrent',\n",
       " 'num_layers_dec': '1',\n",
       " 'num_layers_enc': '1',\n",
       " 'optimizer': 'adam',\n",
       " 'pretrained_embeddings': 'False',\n",
       " 'subsample': '1.0',\n",
       " 'teacher_forcing_ratio': '1.0',\n",
       " 'train_loss_epoch': [3.822055209303806,\n",
       "  2.57821508179988,\n",
       "  2.04525195505226,\n",
       "  1.5312879383921594,\n",
       "  1.4207520915616867,\n",
       "  1.411575792231719,\n",
       "  1.4112444268532842],\n",
       " 'val_bleu': [0.0030803058663997317,\n",
       "  1.3524227675095315,\n",
       "  5.526292769070372,\n",
       "  7.877975045300691,\n",
       "  8.554136001478515,\n",
       "  10.962952340749009,\n",
       "  11.686671975665933,\n",
       "  14.035014730641976,\n",
       "  12.527236423461694,\n",
       "  13.155983121271104,\n",
       "  14.08000182322412,\n",
       "  14.136458931441618,\n",
       "  13.869468316444118,\n",
       "  15.801918611349736,\n",
       "  15.766017129139488,\n",
       "  15.619683950085664,\n",
       "  15.302007123370279,\n",
       "  15.486045651131711,\n",
       "  14.911298073756486,\n",
       "  15.980422329198198,\n",
       "  15.75946245204137,\n",
       "  16.19464806875839,\n",
       "  16.17419754726481,\n",
       "  15.906191438252634,\n",
       "  18.11086557230359,\n",
       "  18.045945275431183,\n",
       "  18.565584415219938,\n",
       "  18.42944228084156,\n",
       "  18.745065035931994,\n",
       "  18.691680208234914,\n",
       "  18.611104626851326,\n",
       "  18.740020099245463,\n",
       "  18.687751657314823,\n",
       "  19.05783580690032,\n",
       "  18.825009819396744,\n",
       "  18.88492837424939,\n",
       "  18.9739569753764,\n",
       "  18.864381634596782,\n",
       "  18.856250658060674,\n",
       "  18.84818640201725,\n",
       "  18.963567768533455,\n",
       "  18.840136978068866,\n",
       "  18.941601099785007,\n",
       "  18.955718589579416,\n",
       "  18.882979809348942,\n",
       "  18.874878082145823,\n",
       "  18.884608001993698,\n",
       "  18.819508301654036,\n",
       "  18.822493542648587,\n",
       "  18.83028402954105,\n",
       "  18.878291719062712,\n",
       "  18.874615093704435,\n",
       "  18.880301700733508,\n",
       "  18.88673839647419,\n",
       "  18.88427045626443,\n",
       "  18.89177928409214,\n",
       "  18.8900155617034,\n",
       "  18.91770240808163,\n",
       "  18.884796320664968,\n",
       "  18.86081320573947,\n",
       "  18.88598650273954,\n",
       "  18.90567231528727,\n",
       "  18.89684177259427],\n",
       " 'val_bleu_beam': [15.589364885861736,\n",
       "  17.58689606059108,\n",
       "  19.495606538617825,\n",
       "  20.30208016499546,\n",
       "  20.23663382267465,\n",
       "  20.205060388889507,\n",
       "  20.18745597322777],\n",
       " 'val_bleu_greedy': [13.23420495150334,\n",
       "  15.060796197287527,\n",
       "  18.449715865954303,\n",
       "  18.978000681133746,\n",
       "  18.864385172841875,\n",
       "  18.884983585088513,\n",
       "  18.900000100663114],\n",
       " 'val_loss': [10.617979860305786,\n",
       "  4.9047557473182675,\n",
       "  4.177814507484436,\n",
       "  3.8123577177524566,\n",
       "  3.533024990558624,\n",
       "  3.362169450521469,\n",
       "  3.227151334285736,\n",
       "  3.0938365757465363,\n",
       "  3.0419594168663027,\n",
       "  3.0204983830451964,\n",
       "  3.014822155237198,\n",
       "  2.9720323741436006,\n",
       "  2.9354252576828004,\n",
       "  2.9178340554237367,\n",
       "  2.8827166616916657,\n",
       "  2.8544867277145385,\n",
       "  2.8196795880794525,\n",
       "  2.7863284766674044,\n",
       "  2.7910153567790985,\n",
       "  2.8412411510944366,\n",
       "  2.8603392362594606,\n",
       "  2.874844914674759,\n",
       "  2.8559190154075624,\n",
       "  2.8517514169216156,\n",
       "  2.717413192987442,\n",
       "  2.672075963020325,\n",
       "  2.6484417974948884,\n",
       "  2.642540681362152,\n",
       "  2.652408742904663,\n",
       "  2.658589851856232,\n",
       "  2.6594148576259613,\n",
       "  2.6566675662994386,\n",
       "  2.652561676502228,\n",
       "  2.650199145078659,\n",
       "  2.6372245967388155,\n",
       "  2.6460222959518434,\n",
       "  2.638928985595703,\n",
       "  2.642593687772751,\n",
       "  2.6477650821208956,\n",
       "  2.6401172161102293,\n",
       "  2.6417458772659304,\n",
       "  2.6422829210758207,\n",
       "  2.6444445967674257,\n",
       "  2.6448102235794066,\n",
       "  2.6446174800395967,\n",
       "  2.6454780757427216,\n",
       "  2.650095784664154,\n",
       "  2.64216006398201,\n",
       "  2.6399458169937136,\n",
       "  2.6446028292179107,\n",
       "  2.6434208691120147,\n",
       "  2.6464736342430113,\n",
       "  2.649202287197113,\n",
       "  2.6434327602386474,\n",
       "  2.6448277056217195,\n",
       "  2.6440999686717985,\n",
       "  2.640719711780548,\n",
       "  2.6437090218067167,\n",
       "  2.6388888478279116,\n",
       "  2.6451095402240754,\n",
       "  2.6470139622688293,\n",
       "  2.642454224824905,\n",
       "  2.6362747341394424],\n",
       " 'val_loss_epoch': [3.020292526483536,\n",
       "  2.787223094701767,\n",
       "  2.636152070760727,\n",
       "  2.6412437736988066,\n",
       "  2.6425239503383637,\n",
       "  2.64781197309494,\n",
       "  2.642083865404129]}"
      ]
     },
     "execution_count": 139,
     "metadata": {},
     "output_type": "execute_result"
    }
   ],
   "source": [
    "all_models[26].mod_dic"
   ]
  },
  {
   "cell_type": "code",
   "execution_count": null,
   "metadata": {},
   "outputs": [],
   "source": [
    "#chinese, no bi, no at"
   ]
  },
  {
   "cell_type": "code",
   "execution_count": 146,
   "metadata": {},
   "outputs": [],
   "source": [
    "os.chdir(graphs)"
   ]
  },
  {
   "cell_type": "code",
   "execution_count": 143,
   "metadata": {},
   "outputs": [],
   "source": []
  },
  {
   "cell_type": "code",
   "execution_count": 185,
   "metadata": {},
   "outputs": [],
   "source": [
    "zh1_val = model_name('f9ca067d556842fb889df2fb5b4ab664')"
   ]
  },
  {
   "cell_type": "code",
   "execution_count": 189,
   "metadata": {},
   "outputs": [
    {
     "data": {
      "image/png": "[encoded data removed]",
      "text/plain": [
       "<Figure size 432x288 with 1 Axes>"
      ]
     },
     "metadata": {},
     "output_type": "display_data"
    }
   ],
   "source": [
    "os.chdir(graphs)\n",
    "plt.plot(zh1_val.mod_dic['train_loss_epoch'], label = 'Train')\n",
    "plt.plot(zh1_val.mod_dic['val_loss_epoch'], label = 'Val')\n",
    "plt.ylabel(\"Validation Loss\")\n",
    "plt.title(\"Chinese, Bidirectional, No Attention\")\n",
    "plt.legend(loc='upper right')\n",
    "plt.savefig(\"zh1.png\")\n",
    "#add training\n"
   ]
  },
  {
   "cell_type": "code",
   "execution_count": null,
   "metadata": {},
   "outputs": [],
   "source": []
  },
  {
   "cell_type": "code",
   "execution_count": 190,
   "metadata": {},
   "outputs": [],
   "source": [
    "vi1_val = model_name('e05089c0c9e644daa3fc9b67253e9451')"
   ]
  },
  {
   "cell_type": "code",
   "execution_count": 193,
   "metadata": {},
   "outputs": [
    {
     "data": {
      "image/png": "[encoded data removed]",
      "text/plain": [
       "<Figure size 432x288 with 1 Axes>"
      ]
     },
     "metadata": {},
     "output_type": "display_data"
    }
   ],
   "source": [
    "os.chdir(graphs)\n",
    "plt.plot(vi1_val.mod_dic['train_loss_epoch'], label = 'Train')\n",
    "plt.plot(vi1_val.mod_dic['val_loss_epoch'], label = 'Val')\n",
    "plt.ylabel(\"Validation Loss\")\n",
    "plt.title(\"Vietnamese, Bidirectional, With Attention\")\n",
    "plt.legend(loc='upper right')\n",
    "plt.savefig(\"vi1.png\")\n",
    "\n",
    "##add training"
   ]
  },
  {
   "cell_type": "code",
   "execution_count": null,
   "metadata": {},
   "outputs": [],
   "source": []
  },
  {
   "cell_type": "code",
   "execution_count": 180,
   "metadata": {},
   "outputs": [],
   "source": [
    "curr_mod1 = model_name('941d1dcd40dc4601be9e5f86b9b09321')"
   ]
  },
  {
   "cell_type": "code",
   "execution_count": 182,
   "metadata": {},
   "outputs": [
    {
     "data": {
      "image/png": "[encoded data removed]",
      "text/plain": [
       "<Figure size 432x288 with 1 Axes>"
      ]
     },
     "metadata": {},
     "output_type": "display_data"
    }
   ],
   "source": [
    "os.chdir(graphs)\n",
    "plt.plot(curr_mod1.mod_dic['val_bleu'])\n",
    "plt.ylabel(\"BLEU score\")\n",
    "plt.title(\"Vietnamese, Bidirectional, With Attention\")\n",
    "plt.savefig(\"vi2.png\")"
   ]
  },
  {
   "cell_type": "code",
   "execution_count": null,
   "metadata": {},
   "outputs": [],
   "source": []
  }
 ],
 "metadata": {
  "kernelspec": {
   "display_name": "Python 3",
   "language": "python",
   "name": "python3"
  },
  "language_info": {
   "codemirror_mode": {
    "name": "ipython",
    "version": 3
   },
   "file_extension": ".py",
   "mimetype": "text/x-python",
   "name": "python",
   "nbconvert_exporter": "python",
   "pygments_lexer": "ipython3",
   "version": "3.6.4"
  },
  "varInspector": {
   "cols": {
    "lenName": 16,
    "lenType": 16,
    "lenVar": 40
   },
   "kernels_config": {
    "python": {
     "delete_cmd_postfix": "",
     "delete_cmd_prefix": "del ",
     "library": "var_list.py",
     "varRefreshCmd": "print(var_dic_list())"
    },
    "r": {
     "delete_cmd_postfix": ") ",
     "delete_cmd_prefix": "rm(",
     "library": "var_list.r",
     "varRefreshCmd": "cat(var_dic_list()) "
    }
   },
   "types_to_exclude": [
    "module",
    "function",
    "builtin_function_or_method",
    "instance",
    "_Feature"
   ],
   "window_display": false
  }
 },
 "nbformat": 4,
 "nbformat_minor": 2
}
