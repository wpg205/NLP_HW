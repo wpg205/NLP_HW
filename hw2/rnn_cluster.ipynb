{
 "cells": [
  {
   "cell_type": "code",
   "execution_count": 1,
   "metadata": {},
   "outputs": [],
   "source": [
    "import numpy as np\n",
    "from operator import itemgetter\n",
    "import os\n",
    "import pandas as pd"
   ]
  },
  {
   "cell_type": "code",
   "execution_count": 2,
   "metadata": {},
   "outputs": [],
   "source": [
    "import torch\n",
    "import torch.nn as nn\n",
    "import torch.nn.functional as F\n",
    "from torch.utils.data import Dataset\n",
    "from collections import Counter\n",
    "import pickle as pkl\n",
    "import random\n",
    "import pdb\n",
    "random.seed(1)\n",
    "import matplotlib.pyplot as plt\n",
    "\n",
    "PAD_IDX = 0\n",
    "UNK_IDX = 1\n",
    "BATCH_SIZE = 32"
   ]
  },
  {
   "cell_type": "code",
   "execution_count": 9,
   "metadata": {},
   "outputs": [],
   "source": [
    "if torch.cuda.is_available and torch.has_cudnn:\n",
    "    device = torch.device('cuda')\n",
    "else:\n",
    "    device = torch.device(\"cpu\")"
   ]
  },
  {
   "cell_type": "code",
   "execution_count": 7,
   "metadata": {},
   "outputs": [],
   "source": [
    "import os\n",
    "os.chdir('/scratch/wpg205')\n",
    "os.getcwd()\n",
    "\n",
    "\n",
    "#loading Fasttext word embeddings\n",
    "ft_home = './'\n",
    "words_to_load = 50000\n",
    "\n",
    "with open(ft_home + 'wiki-news-300d-1M.vec') as f:\n",
    "    loaded_embeddings_ft = np.zeros((words_to_load+2, 300))\n",
    "    words_ft = {}\n",
    "    idx2words_ft = {}\n",
    "    ordered_words_ft = []\n",
    "    ordered_words_ft.append(PAD_IDX)\n",
    "    ordered_words_ft.append(UNK_IDX)\n",
    "    for t, line in enumerate(f):\n",
    "        i = t + 2 \n",
    "        if t >= words_to_load: \n",
    "            break\n",
    "        s = line.split()\n",
    "        loaded_embeddings_ft[i, :] = np.asarray(s[1:])\n",
    "        words_ft[s[0]] = i\n",
    "        idx2words_ft[i] = s[0]\n",
    "        ordered_words_ft.append(s[0])\n",
    "\n",
    "loaded_embeddings_ft_torch = torch.tensor(loaded_embeddings_ft, requires_grad = True)\n",
    "del loaded_embeddings_ft"
   ]
  },
  {
   "cell_type": "code",
   "execution_count": 6,
   "metadata": {},
   "outputs": [
    {
     "name": "stdout",
     "output_type": "stream",
     "text": [
      "the\n",
      "test\n",
      "is\n",
      "passed\n"
     ]
    }
   ],
   "source": [
    "#test\n",
    "print(ordered_words_ft[words_ft['the']])\n",
    "print(ordered_words_ft[words_ft['test']])\n",
    "print(ordered_words_ft[words_ft['is']])\n",
    "print(ordered_words_ft[words_ft['passed']])"
   ]
  },
  {
   "cell_type": "code",
   "execution_count": 7,
   "metadata": {},
   "outputs": [],
   "source": [
    "#with open('snli_train.tsv') as f:\n",
    "snli_train = pd.read_csv('snli_train.tsv', sep='\\t') \n",
    "#snli_train = snli_train.iloc[:10000,:]\n",
    "snli_train['sentence1'] = snli_train['sentence1'].str.split()\n",
    "snli_train['sentence2'] = snli_train['sentence2'].str.split()\n",
    "\n",
    "snli_val = pd.read_csv('snli_val.tsv', sep='\\t') \n",
    "#snli_val = snli_val.iloc[:10000,:]\n",
    "snli_val['sentence1'] = snli_val['sentence1'].str.split()\n",
    "snli_val['sentence2'] = snli_val['sentence2'].str.split()\n",
    "\n",
    "snli_train['label'].replace('neutral',0, inplace=True)\n",
    "snli_train['label'].replace('entailment',1, inplace = True)\n",
    "snli_train['label'].replace('contradiction',2, inplace = True)\n",
    "\n",
    "snli_val['label'].replace('neutral',0, inplace=True)\n",
    "snli_val['label'].replace('entailment',1, inplace = True)\n",
    "snli_val['label'].replace('contradiction',2, inplace = True)\n",
    "\n",
    "data_tup_train = zip(snli_train.sentence1,snli_train.sentence2,snli_train.label)\n",
    "data_tup_val = zip(snli_val.sentence1,snli_val.sentence2,snli_val.label)\n",
    "\n",
    "del snli_train\n",
    "del snli_val"
   ]
  },
  {
   "cell_type": "code",
   "execution_count": 8,
   "metadata": {},
   "outputs": [],
   "source": [
    "Max_sen_length = 82\n",
    "\n",
    "class VocabDataset(Dataset):\n",
    "    \"\"\"\n",
    "    Class that represents a train/validation/test dataset that's readable for PyTorch\n",
    "    Note that this class inherits torch.utils.data.Dataset\n",
    "    \"\"\"\n",
    "\n",
    "    def __init__(self, data_tuple, char2id):\n",
    "        \"\"\"\n",
    "        @param data_list: list of character\n",
    "        @param target_list: list of targets\n",
    "\n",
    "        \"\"\"\n",
    "        self.sent1,self.sent2,self.target_list = zip(*data_tuple)\n",
    "        assert (len(self.sent1) == len(self.target_list))\n",
    "        assert (len(self.sent2) == len(self.target_list))\n",
    "        self.char2id = char2id\n",
    "\n",
    "    def __len__(self):\n",
    "        return len(self.sent1)\n",
    "\n",
    "    def __getitem__(self, key):\n",
    "        \"\"\"\n",
    "        Triggered when you call dataset[i]\n",
    "        \"\"\"\n",
    "        char_idx_1 = [self.char2id[c] if c in self.char2id.keys() else UNK_IDX  for c in self.sent1[key][:Max_sen_length]]\n",
    "        char_idx_2 = [self.char2id[c] if c in self.char2id.keys() else UNK_IDX  for c in self.sent2[key][:Max_sen_length]]\n",
    "        label = self.target_list[key]\n",
    "        return [char_idx_1, char_idx_2,len(char_idx_1),len(char_idx_2),label]\n",
    "\n",
    "def vocab_collate_func(batch):\n",
    "    \"\"\"\n",
    "    Customized function for DataLoader that dynamically pads the batch so that all\n",
    "    data have the same length\n",
    "    \"\"\"\n",
    "    data_list_1 = []\n",
    "    data_list_2 = []\n",
    "    label_list = []\n",
    "    length_list = []\n",
    "    length_list_2 = []\n",
    "\n",
    "    for datum in batch:\n",
    "        label_list.append(datum[4])\n",
    "        length_list.append(datum[2])\n",
    "        length_list_2.append(datum[3])\n",
    "    # padding\n",
    "    for datum in batch:\n",
    "        padded_vec1 = np.pad(np.array(datum[0]),\n",
    "                                pad_width=((0,Max_sen_length-datum[2])),\n",
    "                                mode=\"constant\", constant_values=0)\n",
    "        padded_vec2 = np.pad(np.array(datum[1]),\n",
    "                                pad_width=((0,Max_sen_length-datum[3])),\n",
    "                                mode=\"constant\", constant_values=0)\n",
    "        data_list_1.append(padded_vec1)\n",
    "        data_list_2.append(padded_vec2)\n",
    "    \n",
    "    ordering1 = np.linspace(0, len(data_list_1),len(data_list_1), endpoint = False)\n",
    "    ordering2 = np.linspace(0, len(data_list_2),len(data_list_2), endpoint = False)\n",
    "      \n",
    "    ind_dec_order = np.argsort(length_list)[::-1]\n",
    "    ind_dec_order_2 = np.argsort(length_list_2)[::-1]\n",
    "    \n",
    "    ordering1 = ordering1[ind_dec_order]\n",
    "    ordering2 = ordering2[ind_dec_order_2]\n",
    "        \n",
    "    data_list_1 = np.array(data_list_1)[ind_dec_order]\n",
    "    data_list_2 = np.array(data_list_2)[ind_dec_order_2]\n",
    "                \n",
    "    length_list = np.array(length_list)[ind_dec_order]\n",
    "    length_list_2 = np.array(length_list_2)[ind_dec_order_2]\n",
    "    \n",
    "                \n",
    "    #label_list = np.array(label_list)[ind_dec_order]\n",
    "    return [torch.from_numpy(np.array(data_list_1)), torch.from_numpy(np.array(data_list_2)), \\\n",
    "            torch.LongTensor(length_list),torch.LongTensor(length_list_2), \\\n",
    "            torch.LongTensor(label_list), ordering1, ordering2]\n"
   ]
  },
  {
   "cell_type": "code",
   "execution_count": 9,
   "metadata": {},
   "outputs": [],
   "source": [
    "train_dataset = VocabDataset(data_tup_train, words_ft)\n",
    "train_loader = torch.utils.data.DataLoader(dataset=train_dataset,\n",
    "                                           batch_size=BATCH_SIZE,\n",
    "                                           collate_fn=vocab_collate_func,\n",
    "                                           shuffle=True)\n",
    "\n",
    "val_dataset = VocabDataset(data_tup_val, words_ft)\n",
    "val_loader = torch.utils.data.DataLoader(dataset=val_dataset,\n",
    "                                           batch_size=BATCH_SIZE,\n",
    "                                           collate_fn=vocab_collate_func,\n",
    "                                           shuffle=True)\n",
    "\n",
    "del train_dataset\n",
    "del val_dataset"
   ]
  },
  {
   "cell_type": "code",
   "execution_count": 3,
   "metadata": {},
   "outputs": [],
   "source": [
    "class GRU(nn.Module):\n",
    "    def __init__(self, emb_size, hidden_size, num_layers, num_classes, vocab_size, bidirectional = True):\n",
    "        # RNN Accepts the following hyperparams:\n",
    "        # emb_size: Embedding Size\n",
    "        # hidden_size: Hidden Size of layer in RNN\n",
    "        # num_layers: number of layers in RNN\n",
    "        # num_classes: number of output classes\n",
    "        # vocab_size: vocabulary size\n",
    "        super(GRU, self).__init__()\n",
    "\n",
    "        self.num_layers, self.hidden_size = num_layers, hidden_size\n",
    "        #self.embedding = nn.Embedding(vocab_size, emb_size, padding_idx=PAD_IDX)\n",
    "        self.embedding = nn.Embedding.from_pretrained(loaded_embeddings_ft_torch, freeze = False).to(device)\n",
    "        self.rnn = nn.GRU(emb_size, hidden_size, num_layers, batch_first=True, bidirectional = True).to(device)\n",
    "        self.linear1 = nn.Linear(hidden_size*2*2, 100).to(device)\n",
    "        self.linear2 = nn.Linear(100, 50).to(device)\n",
    "        self.linear = nn.Linear(50, num_classes).to(device)\n",
    "        #self.linear = nn.Linear(hidden_size*2*2, num_classes)\n",
    "\n",
    "    def init_hidden(self, batch_size):\n",
    "        # Function initializes the activation of recurrent neural net at timestep 0\n",
    "        # Needs to be in format (num_layers, batch_size, hidden_size)\n",
    "        hidden = torch.randn(self.num_layers*2, batch_size, self.hidden_size)\n",
    "\n",
    "        return hidden.to(device)\n",
    "\n",
    "    def forward(self, x1,x2,lengths1,lengths2, ordering1, ordering2):\n",
    "        #setting mask\n",
    "        \"\"\"\"\"\"\n",
    "        m1 = torch.zeros([x1.size(0), x1.size(1)]).to(device)\n",
    "        m2 = torch.zeros([x2.size(0), x2.size(1)]).to(device)\n",
    "        \n",
    "        m1[x1 == 1] = 1\n",
    "        m2[x2 == 1] = 1\n",
    "    \n",
    "        #m1 = torch.from_numpy(m1)\n",
    "        #m2 = torch.from_numpy(m2)\n",
    "        \n",
    "        \n",
    "        # reset hidden state\n",
    "        batch_size, seq_len = x1.size()\n",
    "\n",
    "        # get embedding of characters\n",
    "        embed1 = self.embedding(x1.to(device))\n",
    "        embed2 = self.embedding(x2.to(device))\n",
    "        \n",
    "        m1 = m1.unsqueeze(-1).expand_as(embed1).to(device)\n",
    "        m2 = m2.unsqueeze(-1).expand_as(embed2).to(device)\n",
    "        embed1 = embed1.to(torch.float).to(device)\n",
    "        embed2 = embed2.to(torch.float).to(device)\n",
    "        m1 = m1.to(torch.float).to(device)\n",
    "        m2 = m2.to(torch.float).to(device)\n",
    "\n",
    "        embed1 = m1 * embed1+ (1-m1) * embed1.clone().detach()\n",
    "        embed2 = m2 * embed2+ (1-m2) * embed2.clone().detach()\n",
    "        \n",
    "        \n",
    "        # pack padded sequence\n",
    "        embed1 = torch.nn.utils.rnn.pack_padded_sequence(embed1, lengths1.numpy(), batch_first=True)\n",
    "        embed2 = torch.nn.utils.rnn.pack_padded_sequence(embed2, lengths2.numpy(), batch_first=True)\n",
    "        \n",
    "        \n",
    "        # fprop though RNN\n",
    "        self.hidden = self.init_hidden(batch_size).to(device)\n",
    "        rnn_out1, self.hidden1 = self.rnn(embed1, self.hidden)\n",
    "        \n",
    "        # undo packing\n",
    "        rnn_out1, _ = torch.nn.utils.rnn.pad_packed_sequence(rnn_out1, batch_first=True)\n",
    "        \n",
    "        # fprop though RNN\n",
    "        self.hidden = self.init_hidden(batch_size).to(device)\n",
    "        rnn_out2, self.hidden2 = self.rnn(embed2, self.hidden)\n",
    "        # undo packing\n",
    "        rnn_out2, _ = torch.nn.utils.rnn.pad_packed_sequence(rnn_out2, batch_first=True)\n",
    "        \"\"\"        \n",
    "        # fprop though RNN\n",
    "        self.hidden = self.init_hidden(batch_size)\n",
    "        rnn_out1, self.hidden1 = self.rnn(embed1, self.hidden)\n",
    "        \n",
    "        # fprop though RNN\n",
    "        self.hidden = self.init_hidden(batch_size)\n",
    "        rnn_out2, self.hidden2 = self.rnn(embed2, self.hidden)\n",
    "        \"\"\"\n",
    "        reverse1 = np.argsort(ordering1)\n",
    "        reverse2 = np.argsort(ordering2)\n",
    "        #print(rnn_out1.size())\n",
    "        #Use hidden state rather than the last one\n",
    "        \n",
    "        \n",
    "        rnn_out1 = rnn_out1[reverse1,:,:].to(device)\n",
    "        rnn_out2 = rnn_out2[reverse2,:,:].to(device)\n",
    "        \n",
    "        #self.hidden1 = self.hidden1[:,reverse1,:]\n",
    "        #self.hidden2 = self.hidden2[:,reverse2,:]\n",
    "        #print(rnn_out1)\n",
    "        #print(rnn_out2.size())\n",
    "        \n",
    "        # sum hidden activations of RNN across time\n",
    "        rnn_out1 = torch.sum(rnn_out1, dim=1).to(device)\n",
    "        rnn_out2 = torch.sum(rnn_out2, dim=1).to(device)\n",
    "        #rnn_out1 = rnn_out1[:,-1,:]\n",
    "        #rnn_out2 = rnn_out2[:,-1,:]\n",
    "        \n",
    "        rnn_out = torch.cat((rnn_out1,rnn_out2), 1).to(device)\n",
    "        #rnn_out = torch.cat((self.hidden1,self.hidden2), 2)\n",
    "\n",
    "        rnn_out = F.relu(self.linear1(rnn_out))\n",
    "        rnn_out = F.relu(self.linear2(rnn_out))\n",
    "        logits = self.linear(rnn_out)\n",
    "        return logits\n"
   ]
  },
  {
   "cell_type": "code",
   "execution_count": 37,
   "metadata": {},
   "outputs": [],
   "source": [
    "def test_model(loader, model):\n",
    "    \"\"\"\n",
    "    Help function that tests the model's performance on a dataset\n",
    "    @param: loader - data loader for the dataset to test against\n",
    "    \"\"\"\n",
    "    total_loss = 0\n",
    "    correct = 0\n",
    "    total = 0\n",
    "    model.eval()\n",
    "    with torch.no_grad():\n",
    "        for data1,data2,lengths1,lengths2,labels,ordering1,ordering2 in loader:\n",
    "            outputs = F.softmax(model(data1,data2, lengths1,lengths2,ordering1,ordering2), dim=0)\n",
    "            predicted = outputs.max(1, keepdim=True)[1]\n",
    "            loss = criterion(outputs, labels.to(device))\n",
    "            total_loss += loss/labels.size(0)\n",
    "            total += labels.size(0)\n",
    "            correct += predicted.eq(labels.to(device).view_as(predicted)).sum().item()\n",
    "        return (100 * correct / total), total_loss"
   ]
  },
  {
   "cell_type": "code",
   "execution_count": 38,
   "metadata": {},
   "outputs": [
    {
     "name": "stdout",
     "output_type": "stream",
     "text": [
      "total lossing\n",
      "Epoch: [1/8], Step: [1001/3125], Validation Acc: 50.2, Train Acc: 51.125\n",
      "total lossing\n",
      "Epoch: [1/8], Step: [2001/3125], Validation Acc: 54.4, Train Acc: 53.916\n",
      "total lossing\n",
      "Epoch: [1/8], Step: [3001/3125], Validation Acc: 56.1, Train Acc: 55.702\n",
      "total lossing\n",
      "Epoch: [2/8], Step: [1001/3125], Validation Acc: 53.1, Train Acc: 56.319\n",
      "total lossing\n",
      "Epoch: [2/8], Step: [2001/3125], Validation Acc: 57.1, Train Acc: 57.061\n",
      "total lossing\n",
      "Epoch: [2/8], Step: [3001/3125], Validation Acc: 58.8, Train Acc: 57.577\n",
      "total lossing\n",
      "Epoch: [3/8], Step: [1001/3125], Validation Acc: 58.2, Train Acc: 58.379\n",
      "total lossing\n",
      "Epoch: [3/8], Step: [2001/3125], Validation Acc: 59.4, Train Acc: 59.417\n",
      "total lossing\n",
      "Epoch: [3/8], Step: [3001/3125], Validation Acc: 59.4, Train Acc: 60.446\n",
      "total lossing\n",
      "Epoch: [4/8], Step: [1001/3125], Validation Acc: 60.7, Train Acc: 60.68\n",
      "total lossing\n",
      "Epoch: [4/8], Step: [2001/3125], Validation Acc: 59.4, Train Acc: 61.387\n",
      "total lossing\n",
      "Epoch: [4/8], Step: [3001/3125], Validation Acc: 61.4, Train Acc: 62.25\n",
      "total lossing\n",
      "Epoch: [5/8], Step: [1001/3125], Validation Acc: 63.8, Train Acc: 63.383\n",
      "total lossing\n",
      "Epoch: [5/8], Step: [2001/3125], Validation Acc: 61.1, Train Acc: 63.445\n",
      "total lossing\n",
      "Epoch: [5/8], Step: [3001/3125], Validation Acc: 63.7, Train Acc: 64.164\n",
      "total lossing\n",
      "Epoch: [6/8], Step: [1001/3125], Validation Acc: 63.7, Train Acc: 64.177\n",
      "total lossing\n",
      "Epoch: [6/8], Step: [2001/3125], Validation Acc: 64.1, Train Acc: 64.405\n",
      "total lossing\n",
      "Epoch: [6/8], Step: [3001/3125], Validation Acc: 62.5, Train Acc: 64.309\n",
      "total lossing\n",
      "Epoch: [7/8], Step: [1001/3125], Validation Acc: 63.9, Train Acc: 64.966\n",
      "total lossing\n",
      "Epoch: [7/8], Step: [2001/3125], Validation Acc: 65.4, Train Acc: 65.813\n",
      "total lossing\n",
      "Epoch: [7/8], Step: [3001/3125], Validation Acc: 63.9, Train Acc: 66.066\n",
      "total lossing\n",
      "Epoch: [8/8], Step: [1001/3125], Validation Acc: 66.0, Train Acc: 66.729\n",
      "total lossing\n",
      "Epoch: [8/8], Step: [2001/3125], Validation Acc: 66.2, Train Acc: 66.872\n",
      "total lossing\n",
      "Epoch: [8/8], Step: [3001/3125], Validation Acc: 64.8, Train Acc: 66.657\n"
     ]
    }
   ],
   "source": [
    "model = GRU(emb_size=300, hidden_size=200, num_layers=1, num_classes=3, vocab_size=words_to_load)\n",
    "\n",
    "learning_rate = 3e-4\n",
    "num_epochs = 8 # number epoch to train\n",
    "\n",
    "# Criterion and Optimizer\n",
    "criterion = torch.nn.CrossEntropyLoss()\n",
    "optimizer = torch.optim.Adam(model.parameters(), lr=learning_rate)\n",
    "\n",
    "# Train the model\n",
    "total_step = len(train_loader)\n",
    "\n",
    "train_loss_vals = []\n",
    "train_acc_vals = []\n",
    "val_loss_vals = []\n",
    "val_acc_vals = []\n",
    "for epoch in range(num_epochs):\n",
    "    for i, (data1,data2,lengths1,lengths2,labels,ordering1,ordering2) in enumerate(train_loader):\n",
    "        model.train()\n",
    "        optimizer.zero_grad()\n",
    "        # Forward pass\n",
    "        outputs = model(data1,data2,lengths1,lengths2,ordering1,ordering2)\n",
    "        #print(outputs,labels)\n",
    "        loss = criterion(outputs,labels.to(device))\n",
    "        # Backward and optimize\n",
    "        loss.backward()\n",
    "        optimizer.step()\n",
    "        # validate every 100 iterations\n",
    "        if i > 0 and i % 1000 == 0:\n",
    "            # validate\n",
    "            print(\"total lossing\")\n",
    "            val_acc, val_loss = test_model(val_loader, model)\n",
    "            train_acc, train_loss = test_model(train_loader, model)\n",
    "            train_loss_vals.append(train_loss)\n",
    "            train_acc_vals.append(train_acc)\n",
    "            val_loss_vals.append(val_loss)\n",
    "            val_acc_vals.append(val_acc)\n",
    "            print('Epoch: [{}/{}], Step: [{}/{}], Validation Acc: {}, Train Acc: {}'.format(\n",
    "                       epoch+1, num_epochs, i+1, total_step, val_acc, train_acc ))\n"
   ]
  },
  {
   "cell_type": "code",
   "execution_count": 44,
   "metadata": {},
   "outputs": [
    {
     "data": {
      "text/plain": [
       "<matplotlib.figure.Figure at 0x2ade52a92518>"
      ]
     },
     "metadata": {},
     "output_type": "display_data"
    },
    {
     "data": {
      "image/png": "[encoded data removed]",
      "text/plain": [
       "<matplotlib.figure.Figure at 0x2ade52a92940>"
      ]
     },
     "metadata": {
      "needs_background": "light"
     },
     "output_type": "display_data"
    }
   ],
   "source": [
    "plt.clf()\n",
    "fig = plt.figure()\n",
    "plt.title('RNN')\n",
    "plt.xlabel('320 Steps')\n",
    "plt.ylabel('Cost')\n",
    "#plt.plot(train_loss_vals, label='Train Loss')\n",
    "plt.plot(val_loss_vals, label='Val Loss')\n",
    "plt.legend(loc='best')\n",
    "fig.savefig('RNN_1_val.png')"
   ]
  },
  {
   "cell_type": "code",
   "execution_count": 45,
   "metadata": {},
   "outputs": [
    {
     "data": {
      "text/plain": [
       "<matplotlib.figure.Figure at 0x2ade529a5c50>"
      ]
     },
     "metadata": {},
     "output_type": "display_data"
    },
    {
     "data": {
      "image/png": "[encoded data removed]",
      "text/plain": [
       "<matplotlib.figure.Figure at 0x2ade529a57f0>"
      ]
     },
     "metadata": {
      "needs_background": "light"
     },
     "output_type": "display_data"
    }
   ],
   "source": [
    "plt.clf()\n",
    "fig = plt.figure()\n",
    "plt.title('RNN')\n",
    "plt.xlabel('320 Steps')\n",
    "plt.ylabel('Cost')\n",
    "plt.plot(train_loss_vals, label='Train Loss')\n",
    "#plt.plot(val_loss_vals, label='Val Loss')\n",
    "plt.legend(loc='best')\n",
    "fig.savefig('RNN_1_train.png')"
   ]
  },
  {
   "cell_type": "code",
   "execution_count": 46,
   "metadata": {},
   "outputs": [
    {
     "data": {
      "text/plain": [
       "<matplotlib.figure.Figure at 0x2ade52b01dd8>"
      ]
     },
     "metadata": {},
     "output_type": "display_data"
    },
    {
     "data": {
      "image/png": "[encoded data removed]",
      "text/plain": [
       "<matplotlib.figure.Figure at 0x2ade52b01d30>"
      ]
     },
     "metadata": {
      "needs_background": "light"
     },
     "output_type": "display_data"
    }
   ],
   "source": [
    "plt.clf()\n",
    "fig = plt.figure()\n",
    "plt.title('RNN')\n",
    "plt.xlabel('320 Steps')\n",
    "plt.ylabel('Cost')\n",
    "plt.plot(train_acc_vals, label='Train Acc')\n",
    "plt.plot(val_acc_vals, label='Val Acc')\n",
    "plt.legend(loc='best')\n",
    "fig.savefig('RNN_1_accs.png')"
   ]
  },
  {
   "cell_type": "code",
   "execution_count": 5,
   "metadata": {},
   "outputs": [],
   "source": [
    "def total_params(model):\n",
    "    param_total = 0\n",
    "    for x in model.parameters():\n",
    "        if x.requires_grad:\n",
    "            store = 1\n",
    "            for y in range(len(x.size())):\n",
    "                store = store*x.size(y)\n",
    "            param_total += store\n",
    "    \n",
    "    #(these are untrained embeddings)\n",
    "    total_embeddings = 50001*300\n",
    "    param_total -= total_embeddings\n",
    "    return param_total\n",
    "\n"
   ]
  },
  {
   "cell_type": "code",
   "execution_count": 10,
   "metadata": {},
   "outputs": [],
   "source": [
    "model_params = GRU(emb_size=300, hidden_size=200, num_layers=1, num_classes=3, vocab_size=words_to_load)"
   ]
  },
  {
   "cell_type": "code",
   "execution_count": 11,
   "metadata": {},
   "outputs": [
    {
     "data": {
      "text/plain": [
       "688003"
      ]
     },
     "execution_count": 11,
     "metadata": {},
     "output_type": "execute_result"
    }
   ],
   "source": [
    "total_params(model_params)"
   ]
  },
  {
   "cell_type": "code",
   "execution_count": null,
   "metadata": {},
   "outputs": [],
   "source": []
  }
 ],
 "metadata": {
  "kernelspec": {
   "display_name": "Python 3",
   "language": "python",
   "name": "python3"
  },
  "language_info": {
   "codemirror_mode": {
    "name": "ipython",
    "version": 3
   },
   "file_extension": ".py",
   "mimetype": "text/x-python",
   "name": "python",
   "nbconvert_exporter": "python",
   "pygments_lexer": "ipython3",
   "version": "3.6.3"
  }
 },
 "nbformat": 4,
 "nbformat_minor": 2
}
